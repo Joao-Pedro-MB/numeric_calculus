{
 "cells": [
  {
   "cell_type": "markdown",
   "metadata": {},
   "source": [
    "# Lista 6 - MS211 turma L"
   ]
  },
  {
   "cell_type": "markdown",
   "metadata": {},
   "source": [
    "para uma descricao detalhada da teoria empregada nesse trabalho, utilize os documentos relatorio.md e lista06.pdf. As contas utilizadas e desenvolvidas nesse trabalho consistem no modelo compartimental SEIR:\n",
    "\n",
    "$$\\begin{cases}\n",
    "\\frac{d\\bold{S}}{dt} = \\frac{r_0}{T_{inf}} \\bold{S}\\bold{I}\\\\\n",
    "\\frac{d\\bold{E}}{dt} = \\frac{r_0}{T_{inf}} \\bold{S}\\bold{I} - \\frac{1}{T_{inc}} \\bold{E}\\\\\n",
    "\\frac{d\\bold{I}}{dt} = \\frac{r_0}{T_{inc}} \\bold{S}\\bold{I} - \\frac{1}{T_{inf}} \\bold{I}\\\\\n",
    "\\frac{d\\bold{R}}{dt} = \\frac{1}{T_{inf}} \\bold{I}\n",
    "\\end{cases}$$\n",
    "\n",
    "Onde:\n",
    "\n",
    "- $r_0$ eh o numero de reprodução basal e representa onúmero de pessoas que um doente iria infectar em média durante o curso de sua doença\n",
    "- $T_{inc}$ eh o tempo de incubacao do virus em uma pessoa exposta\n",
    "- E $T_{inf}$ eh o tempo médio que a pessoa fica infecciosa\n",
    "\n"
   ]
  },
  {
   "cell_type": "markdown",
   "metadata": {},
   "source": [
    "Como condicoes de contorno para o problema, teremos dados conhecidos da pandemia de Covid-19, adotando:\n",
    "\n",
    "- Número de reprodução basal ($r_0$): 2.5, sendo otimista (adimensional)\n",
    "\n",
    "- Tempos médio de incubação e infecção:$T_{inc}= 5.2$ dias,$T_{inf}= 2.9$ dias\n",
    "\n",
    "- Demanda de leitos de UTI: estimava-se que 3% dos doentes precisariamde leito de UTI\n",
    "\n",
    "- Mediana dos tempos de UTI: 7 dias\n",
    "\n",
    "- Disponibilidade de leitos de UTI na região Sudeste em 2019 (antes dapandemia): 27 por 100 mil habitantes\n",
    "\n",
    "- Condição inicial:$S_0 = 0.999999$,$E_0 = 10−6$,$I_0= 0$,$R_0= 0$. Ou seja, há uma pessoa por milhão na população que está exposta e ainda não começou a transmitir a doença. Todo o restante da população é suscetível."
   ]
  },
  {
   "cell_type": "markdown",
   "metadata": {},
   "source": [
    "Para a resolucao do problema utilizaremos o algoritmo do método do ponto médio para EDO vetoriais.\n",
    "\n",
    "O horizonte de simulação sera de 498 dias com um passo de um dia."
   ]
  },
  {
   "cell_type": "markdown",
   "metadata": {},
   "source": [
    "## Perguntas a serem respondidas\n",
    "\n",
    "1. Qual a maior proporção de pessoas doentes observadas em um único dia? Considerando que o estado de São Paulo possui 44,04 milhões de habitantes, essa proporção representa quantas pessoas doentes ao mesmo em umestado como o nosso?\n",
    "\n",
    "2. Quantos dias são necessários para chegar no pico de doentes?\n",
    "\n",
    "3. Estime o número de leitos de UTI para lidar com o pico. Note que isso precisa ser feito com cuidado.  Não basta multiplicar o pico de I pela necessidade de leitos. Você tem que levar em consideração a dinâmica e o tempo em UTI. O que você deve:\n",
    "- (a) Os compartimento I não diz quantos novos doentes há por dia, elediz a proporção de pessoas doentes, mas eles podem estar doentes hávários dias (o tempo médio em I é de 2.9 dias). Para saber o fluxo de novos doentes, a forma mais eficaz é ver o fluxo de pessoas saindo de S, que se tornaram doentes depois de Tinc dias de incubação, ou o número de pessoas entrando diariamente em R que pararam detransmitir a doença naquele dia (seja porque se curaram, seja porque foram parar no hospital). Nesse sentido é mais natural considerar o fluxo diário de pessoas transitando de I para R como o fluxo de novos doentes que podem ir parar na UTI. Calcule e use esse número.\n",
    "- (b) Multiplicando esse fluxo de novos doentes pela a demanda de leitos de UTI por doente dada acima, você descobre quantos novos leitos são necessários a cada dia.\n",
    "- (c) Mas os leitos não são usados por um único dia, sim por 7 dias (veja acima). Então para estimar a necessidade total de leitos você deve somar essa demanda de novos leitos por 7 dias em todo o horizonteda simulação.(d) O número máximo de leitos necessários é então o máximo dessa somaem janela deslizante de 7 dias.\n",
    "4. O número de leitos disponíveis é suficiente para lidar com o pico de demanda? Qual o excesso de demanda máximo, se houver?\n",
    "5. Você consegue estimar quantas pessoas ao todo iriam ficar sem acesso a UTIs? Justifique a forma que você fez essa estimativa.\n",
    "6. Com base nessa simulação o que você diria ao governador do estado no início da pandemia? As restrições de circulação foram necessárias?"
   ]
  },
  {
   "cell_type": "code",
   "execution_count": 10,
   "metadata": {},
   "outputs": [],
   "source": [
    "using LinearAlgebra, Statistics, Random, SparseArrays\n",
    "using Plots\n",
    "using LaTeXStrings\n",
    "using Printf\n",
    "#using OrdinaryDiffEq\n",
    "#using Parameters, Plots"
   ]
  },
  {
   "cell_type": "code",
   "execution_count": 2,
   "metadata": {},
   "outputs": [
    {
     "data": {
      "text/plain": [
       "27"
      ]
     },
     "execution_count": 2,
     "metadata": {},
     "output_type": "execute_result"
    }
   ],
   "source": [
    "r0 = 2.5 # numero de reproducao basal\n",
    "Tinc = 5.2 # incubacao de 5.2 dias\n",
    "Tinf = 2.9 # infeccaopor 2.9 dias\n",
    "prob_UTI = 3/100 # probabilidade de um doente precisar de leito de prob_dem_UTI\n",
    "t_UTI = 7 # tempo passado na UTI\n",
    "S = 0.999999 # sucetiveis iniciais\n",
    "E = 10^(-6) # expostos iniciais\n",
    "I = 0 # infectados iniciais\n",
    "R = 0 # recuperados iniciais\n",
    "leitos_por_100k =27 # 27 leitos para cada 100 mil habitantes * total da populacao\n",
    "days = (0.0, 480.0) # range of days from simulation"
   ]
  },
  {
   "cell_type": "code",
   "execution_count": 44,
   "metadata": {},
   "outputs": [
    {
     "data": {
      "text/plain": [
       "4-element Vector{Float64}:\n",
       " -0.0\n",
       " -1.9230769230769237e-7\n",
       "  1.9230769230769237e-7\n",
       "  0.0"
      ]
     },
     "execution_count": 44,
     "metadata": {},
     "output_type": "execute_result"
    }
   ],
   "source": [
    "# essas expressoes estao corretas, eu copiei errado ali em cima\n",
    "\n",
    "function SEIR(S, E, I, R, r0, Tinc, Tinf)\n",
    "\treturn [\n",
    "\t\t-(r0/Tinf)*S*I; #dS\n",
    "\t\t(r0/Tinf)*S*I - (E/Tinc); #dE\n",
    "\t\t(E/Tinc) - (I/Tinf); #dI\n",
    "\t\t(I/Tinf); #dR\n",
    "\t]\n",
    "end\n",
    "\n",
    "SEIR(S, E, I, R, r0, Tinc, Tinf, 468)"
   ]
  },
  {
   "cell_type": "code",
   "execution_count": 45,
   "metadata": {},
   "outputs": [
    {
     "name": "stdout",
     "output_type": "stream",
     "text": [
      "u = [0.0 0.0 0.0 0.0 0.0 0.0 0.0 0.0 0.0 0.0; -1.9230769230769237e-7 -1.9230769230769237e-7 -1.9230769230769237e-7 -1.9230769230769237e-7 -1.9230769230769237e-7 -1.9230769230769237e-7 -1.9230769230769237e-7 -1.9230769230769237e-7 -1.9230769230769237e-7 -1.9230769230769237e-7; 1.9230769230769237e-7 1.9230769230769237e-7 1.9230769230769237e-7 1.9230769230769237e-7 1.9230769230769237e-7 1.9230769230769237e-7 1.9230769230769237e-7 1.9230769230769237e-7 1.9230769230769237e-7 1.9230769230769237e-7; 0.0 0.0 0.0 0.0 0.0 0.0 0.0 0.0 0.0 0.0]\n"
     ]
    },
    {
     "data": {
      "text/plain": [
       "4×10 Matrix{Float64}:\n",
       "  0.0          0.0          0.0         …   0.0          0.0\n",
       " -1.92308e-7  -1.92308e-7  -1.92308e-7     -1.92308e-7  -1.92308e-7\n",
       "  1.92308e-7   1.92308e-7   1.92308e-7      1.92308e-7   1.92308e-7\n",
       "  0.0          0.0          0.0             0.0          0.0"
      ]
     },
     "execution_count": 45,
     "metadata": {},
     "output_type": "execute_result"
    }
   ],
   "source": [
    "u = zeros(4,10)\n",
    "\n",
    "for i = 1:10\n",
    "\ty = SEIR(S, E, I, R, r0, Tinc, Tinf)\n",
    "\tu[1,i] += y[1]\n",
    "\tu[2,i] += y[2]\n",
    "\tu[3,i] += y[3]\n",
    "\tu[4,i] += y[4]\n",
    "end\n",
    "\n",
    "@show u"
   ]
  },
  {
   "cell_type": "code",
   "execution_count": null,
   "metadata": {},
   "outputs": [],
   "source": [
    "# Teste com equação boba y'= y, y(0) = 1 em [0, 2].\n",
    "f(t, y) = y\n",
    "n = 1000\n",
    "\n",
    "# Método de Ponto médio para PVI y' = f(t, y), y(a) = y0, usando n pontos.\n",
    "function PontoMedio(a, b, f, y0, n::Int64)\n",
    "\th = (b - a) / n\n",
    "\ty = zeros(n + 1)\n",
    "\ty[1] = y0\n",
    "\tt = a\n",
    "\tfor i = 2:n + 1\n",
    "\t\ty01 = y[1,i - 1] + (h/2)*f(t, y[1,i - 1])\n",
    "\t\ty02 = y[2,i - 1] + (h/2)*f(t, y[2,i - 1])\n",
    "\t\ty03 = y[3,i - 1] + (h/2)*f(t, y[3,i - 1])\n",
    "\t\ty04 = y[4,i - 1] + (h/2)*f(t, y[4,i - 1])\n",
    "\t\tt += h/2\n",
    "\t\ty[1,i] = y[1,i - 1] + h*f(t, y01)\n",
    "\t\ty[2,i] = y[2,i - 1] + h*f(t, y02)\n",
    "\t\ty[3,i] = y[3,i - 1] + h*f(t, y03)\n",
    "\t\ty[4,i] = y[4,i - 1] + h*f(t, y04)\n",
    "\t\tt += h/2\n",
    "\tend\n",
    "\treturn y\n",
    "end\n",
    "y = PontoMedio(0, 2, f, 1, round(Int64, n / 10))\n",
    "@printf(\"\\nPonto médio com 10%% dos pontos:\\n\")\n",
    "@printf(\"Valor aproximado = %f\\n\", y[end])\n",
    "@printf(\"Erro relativo = %.2e\\n\", abs(y[end] - exp(2))/exp(2))"
   ]
  },
  {
   "cell_type": "code",
   "execution_count": 47,
   "metadata": {},
   "outputs": [
    {
     "name": "stdout",
     "output_type": "stream",
     "text": [
      "Valor aproximado = 1.000000\n",
      "Erro relativo = 8.65e-01\n"
     ]
    }
   ],
   "source": [
    "# Teste com equação boba y'= y, y(0) = 1 em [0, 2].\n",
    "f(t, y) = y\n",
    "n = 1000\n",
    "\n",
    "# Método de Ponto médio para PVI y' = f(t, y), y(a) = y0, usando n pontos.\n",
    "function PontoMedio(SEIR, S, E, I, R, r0, Tinc, Tinf, days, step)\n",
    "\th = step\n",
    "\ty = zeros(4, days + 1)\n",
    "\ty[1, 1] = S\n",
    "\ty[2, 1] = E\n",
    "\ty[3, 1] = I\n",
    "\ty[4, 1] = R\n",
    "\tt = a\n",
    "\tfor i = 2:days + 1\n",
    "\t\tresult = SEIR(y[1,i - 1], y[2,i - 1],y[3,i - 1], y[4,i - 1], r0, Tinc, Tinf)\n",
    "\t\ty1 = y[1,i - 1] + (h/2)*result[1]\n",
    "\t\ty2 = y[2,i - 1] + (h/2)*result[2]\n",
    "\t\ty3 = y[3,i - 1] + (h/2)*result[3]\n",
    "\t\ty4 = y[4,i - 1] + (h/2)*result[4]\n",
    "\t\tt += h/2\n",
    "\t\tresult2 = SEIR(y1, y2,y3, y4, r0, Tinc, Tinf)\n",
    "\t\ty[1,i] = y[1,i - 1] + h*result2[1]\n",
    "\t\ty[2,i] = y[2,i - 1] + h*result2[2]\n",
    "\t\ty[3,i] = y[3,i - 1] + h*result2[3]\n",
    "\t\ty[4,i] = y[4,i - 1] + h*result2[4]\n",
    "\t\tt += h/2\n",
    "\tend\n",
    "\treturn y\n",
    "end\n",
    "y = (SEIR, S, E, I, R, r0, Tinc, Tinf, 468, 1)\n",
    "@printf(\"Valor aproximado = %f\\n\", y[end])\n",
    "@printf(\"Erro relativo = %.2e\\n\", abs(y[end] - exp(2))/exp(2))"
   ]
  }
 ],
 "metadata": {
  "kernelspec": {
   "display_name": "Julia 1.6.0",
   "language": "julia",
   "name": "julia-1.6"
  },
  "language_info": {
   "file_extension": ".jl",
   "mimetype": "application/julia",
   "name": "julia",
   "version": "1.6.0"
  },
  "orig_nbformat": 4
 },
 "nbformat": 4,
 "nbformat_minor": 2
}
